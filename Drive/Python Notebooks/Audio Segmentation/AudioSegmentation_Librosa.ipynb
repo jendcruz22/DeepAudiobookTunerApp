{
  "nbformat": 4,
  "nbformat_minor": 0,
  "metadata": {
    "colab": {
      "name": "AudioSegmentation_Librosa.ipynb",
      "provenance": [],
      "collapsed_sections": []
    },
    "kernelspec": {
      "name": "python3",
      "display_name": "Python 3"
    }
  },
  "cells": [
    {
      "cell_type": "code",
      "metadata": {
        "id": "AXEUOUfeRlPq"
      },
      "source": [
        "import librosa\r\n",
        " \r\n",
        "file_name = \"alice.mp3\"\r\n",
        "audio, sr = librosa.load(file_name)\r\n",
        " \r\n",
        "buffer = 30 * sr\r\n",
        " \r\n",
        "samples_total = len(audio)\r\n",
        "samples_wrote = 0\r\n",
        "counter = 1\r\n",
        " \r\n",
        "while samples_wrote < samples_total:\r\n",
        "  \r\n",
        "    #check if the buffer is not exceeding total samples \r\n",
        "    if buffer > (samples_total - samples_wrote):\r\n",
        "        buffer = samples_total - samples_wrote\r\n",
        " \r\n",
        "    block = audio[samples_wrote : (samples_wrote + buffer)]\r\n",
        "    out_filename = \"split_\" + str(counter) + \"_\" + file_name\r\n",
        " \r\n",
        "    librosa.output.write_wav(out_filename, block, sr)\r\n",
        "    counter += 1\r\n",
        "    samples_wrote += buffer"
      ],
      "execution_count": null,
      "outputs": []
    },
    {
      "cell_type": "code",
      "metadata": {
        "id": "kbYAzd6KUjus"
      },
      "source": [
        ""
      ],
      "execution_count": null,
      "outputs": []
    }
  ]
}