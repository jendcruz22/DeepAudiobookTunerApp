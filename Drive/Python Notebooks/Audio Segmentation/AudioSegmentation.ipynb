{
  "nbformat": 4,
  "nbformat_minor": 0,
  "metadata": {
    "colab": {
      "name": "AudioSegmentation.ipynb",
      "provenance": [],
      "collapsed_sections": []
    },
    "kernelspec": {
      "name": "python3",
      "display_name": "Python 3"
    }
  },
  "cells": [
    {
      "cell_type": "markdown",
      "metadata": {
        "id": "Uen4f_EhG_Ax"
      },
      "source": [
        "# Audio Segmentation"
      ]
    },
    {
      "cell_type": "markdown",
      "metadata": {
        "id": "N56GaHAEHDEQ"
      },
      "source": [
        "### 1. Using Librosa"
      ]
    },
    {
      "cell_type": "code",
      "metadata": {
        "id": "AXEUOUfeRlPq"
      },
      "source": [
        "import librosa\r\n",
        " \r\n",
        "# load audio file \r\n",
        "file_name = \"alice.mp3\"\r\n",
        "audio, sr = librosa.load(file_name)\r\n",
        "\r\n",
        "# get number of samples for 30 seconds \r\n",
        "buffer = 30 * sr\r\n",
        " \r\n",
        "samples_total = len(audio)\r\n",
        "samples_wrote = 0\r\n",
        "counter = 1\r\n",
        " \r\n",
        "while samples_wrote < samples_total:\r\n",
        "  # check if the buffer is not exceeding total samples \r\n",
        "  if buffer > (samples_total - samples_wrote):\r\n",
        "    buffer = samples_total - samples_wrote\r\n",
        "\r\n",
        "  block = audio[samples_wrote : (samples_wrote + buffer)]\r\n",
        "  output_filename = \"split_\" + str(counter) + \"_\" + file_name\r\n",
        "\r\n",
        "  # output the segmented audio files \r\n",
        "  librosa.output.write_wav(output_filename, block, sr)\r\n",
        "\r\n",
        "  counter += 1\r\n",
        "  samples_wrote += buffer"
      ],
      "execution_count": 4,
      "outputs": []
    },
    {
      "cell_type": "markdown",
      "metadata": {
        "id": "XOxtdFMeK8VQ"
      },
      "source": [
        "### 2. Using Pydub\r\n",
        "\r\n",
        "https://www.geeksforgeeks.org/audio-processing-using-pydub-and-google-speechrecognition-api/"
      ]
    },
    {
      "cell_type": "code",
      "metadata": {
        "colab": {
          "base_uri": "https://localhost:8080/"
        },
        "id": "_7lsRjE4LEWI",
        "outputId": "aff5ad7d-27bf-4051-adbc-d1dd8e64e918"
      },
      "source": [
        "pip install pydub"
      ],
      "execution_count": 1,
      "outputs": [
        {
          "output_type": "stream",
          "text": [
            "Collecting pydub\n",
            "  Downloading https://files.pythonhosted.org/packages/7b/d1/fbfa79371a8cd9bb15c2e3c480d7e6e340ed5cc55005174e16f48418333a/pydub-0.24.1-py2.py3-none-any.whl\n",
            "Installing collected packages: pydub\n",
            "Successfully installed pydub-0.24.1\n"
          ],
          "name": "stdout"
        }
      ]
    },
    {
      "cell_type": "code",
      "metadata": {
        "id": "LOYrgsD1LHM3"
      },
      "source": [
        "from pydub import AudioSegment\r\n",
        "\r\n",
        "# input audio file \r\n",
        "audio = AudioSegment.from_mp3(\"alice.mp3\")\r\n",
        "\r\n",
        "n = len(audio)\r\n",
        "interval = 30 * 1000  # 30 seconds\r\n",
        "counter = 1\r\n",
        "\r\n",
        "start = 0\r\n",
        "end = 0\r\n",
        "flag = 0  # flag to keep track of end of file \r\n",
        "\r\n",
        "for i in range(0, n, interval):\r\n",
        "  # for first iteration\r\n",
        "  if i == 0:\r\n",
        "    start = 0\r\n",
        "    end = interval\r\n",
        "  # for all the other iterations\r\n",
        "  else:\r\n",
        "    start = end \r\n",
        "    end = start + interval\r\n",
        "  # when end becomes greater than the file length\r\n",
        "  if end >= n: \r\n",
        "    end = n \r\n",
        "    flag = 1\r\n",
        "\r\n",
        "  chunk = audio[start:end]\r\n",
        "\r\n",
        "  # store the segmented audio files\r\n",
        "  output = \"chunk_\" + str(counter) + \".mp3\"\r\n",
        "  chunk.export(output, format = \"mp3\")\r\n",
        "\r\n",
        "  # increment counter for the next chunk \r\n",
        "  counter += 1"
      ],
      "execution_count": 3,
      "outputs": []
    }
  ]
}