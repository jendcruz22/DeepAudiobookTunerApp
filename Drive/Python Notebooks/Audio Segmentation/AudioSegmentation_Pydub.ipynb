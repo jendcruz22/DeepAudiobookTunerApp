{
  "nbformat": 4,
  "nbformat_minor": 0,
  "metadata": {
    "colab": {
      "name": "AudioSegmentation_Pydub.ipynb",
      "provenance": []
    },
    "kernelspec": {
      "name": "python3",
      "display_name": "Python 3"
    }
  },
  "cells": [
    {
      "cell_type": "code",
      "metadata": {
        "colab": {
          "base_uri": "https://localhost:8080/"
        },
        "id": "Utp0JSqy1mx1",
        "outputId": "5483aee1-e47d-4d4d-dba6-8132e0bb94dc"
      },
      "source": [
        "pip install pydub"
      ],
      "execution_count": 1,
      "outputs": [
        {
          "output_type": "stream",
          "text": [
            "Collecting pydub\n",
            "  Downloading https://files.pythonhosted.org/packages/7b/d1/fbfa79371a8cd9bb15c2e3c480d7e6e340ed5cc55005174e16f48418333a/pydub-0.24.1-py2.py3-none-any.whl\n",
            "Installing collected packages: pydub\n",
            "Successfully installed pydub-0.24.1\n"
          ],
          "name": "stdout"
        }
      ]
    },
    {
      "cell_type": "code",
      "metadata": {
        "id": "CqyYqshJ1kqh"
      },
      "source": [
        "from pydub import AudioSegment\r\n",
        "\r\n",
        "audio = AudioSegment.from_mp3(\"alice.mp3\")\r\n",
        "\r\n",
        "n = len(audio)\r\n",
        "interval = 30 * 1000\r\n",
        "counter = 1\r\n",
        "\r\n",
        "start = 0\r\n",
        "end = 0\r\n",
        "flag = 0\r\n",
        "\r\n",
        "for i in range(0, n, interval):\r\n",
        "  if i == 0:\r\n",
        "    start = 0\r\n",
        "    end = interval\r\n",
        "  else:\r\n",
        "    start = end \r\n",
        "    end = start + interval\r\n",
        "  if end >= n: \r\n",
        "    end = n \r\n",
        "    flag = 1\r\n",
        "\r\n",
        "  chunk = audio[start:end]\r\n",
        "\r\n",
        "  filename = \"chunk\" + str(counter) + \".mp3\"\r\n",
        "  chunk.export(filename, format = \"mp3\")\r\n",
        "  counter += 1"
      ],
      "execution_count": 3,
      "outputs": []
    }
  ]
}